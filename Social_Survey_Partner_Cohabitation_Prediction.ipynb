{
  "nbformat": 4,
  "nbformat_minor": 0,
  "metadata": {
    "hide_input": false,
    "kernelspec": {
      "display_name": "Python 3",
      "language": "python",
      "name": "python3"
    },
    "language_info": {
      "codemirror_mode": {
        "name": "ipython",
        "version": 3
      },
      "file_extension": ".py",
      "mimetype": "text/x-python",
      "name": "python",
      "nbconvert_exporter": "python",
      "pygments_lexer": "ipython3",
      "version": "3.7.6"
    },
    "toc": {
      "colors": {
        "hover_highlight": "#DAA520",
        "running_highlight": "#FF0000",
        "selected_highlight": "#FFD700"
      },
      "moveMenuLeft": true,
      "nav_menu": {
        "height": "59px",
        "width": "252px"
      },
      "navigate_menu": true,
      "number_sections": true,
      "sideBar": true,
      "threshold": 4,
      "toc_cell": false,
      "toc_section_display": "block",
      "toc_window_display": false
    },
    "colab": {
      "name": "Social_Survey_Partner_Cohabitation_Prediction.ipynb",
      "provenance": []
    }
  },
  "cells": [
    {
      "cell_type": "code",
      "metadata": {
        "run_control": {
          "frozen": false,
          "read_only": false
        },
        "id": "vNzHdxMs8ZZ3"
      },
      "source": [
        "import itertools\n",
        "import pandas as pd\n",
        "import numpy as np\n",
        "import matplotlib.pyplot as plt\n",
        "from statsmodels.tools.eval_measures import mse, rmse\n",
        "from sklearn.metrics import mean_absolute_error\n",
        "from sklearn.model_selection import cross_val_score\n",
        "%matplotlib inline\n",
        "\n",
        "from sklearn.metrics import confusion_matrix, precision_score, recall_score\n",
        "from sklearn import ensemble"
      ],
      "execution_count": null,
      "outputs": []
    },
    {
      "cell_type": "markdown",
      "metadata": {
        "id": "A2CQRYFz8ZZ_"
      },
      "source": [
        "# __Gradient boost guided example__\n",
        "---\n",
        "\n",
        "We will be walking through gradient boost using SKlearn.  We'll use the European Social Survey Data, but now with a categorical outcome: Whether or not someone lives with a partner."
      ]
    },
    {
      "cell_type": "code",
      "metadata": {
        "id": "SJx3thqQ8ZaA"
      },
      "source": [
        "df = pd.read_csv((\n",
        "    \"https://raw.githubusercontent.com/Thinkful-Ed/data-201-resources/\"\n",
        "    \"master/ESS_practice_data/ESSdata_Thinkful.csv\")).dropna()\n",
        "\n",
        "# Definine outcome and predictors.\n",
        "# Set our outcome to 0 and 1.\n",
        "y = df['partner'] - 1\n",
        "X = df.loc[:, ~df.columns.isin(['partner', 'cntry', 'idno'])]\n",
        "\n",
        "# Make the categorical variable 'country' into dummies.\n",
        "X = pd.concat([X, pd.get_dummies(df['cntry'])], axis=1)\n",
        "\n",
        "# Create training and test sets.\n",
        "offset = int(X.shape[0] * 0.8)\n",
        "\n",
        "# Put 80% of the data in the training set.\n",
        "X_train, y_train = X[:offset], y[:offset]\n",
        "\n",
        "# And put 20% in the test set.\n",
        "X_test, y_test = X[offset:], y[offset:]"
      ],
      "execution_count": null,
      "outputs": []
    },
    {
      "cell_type": "markdown",
      "metadata": {
        "id": "gaENA1ZG8ZaG"
      },
      "source": [
        "We're now working with a binary outcome, so we've switched to a classifier.  Our loss function can't be the residuals.  \n",
        "\n",
        "Our options are \"deviance\", or \"exponential\".  Deviance is used for logistic regression, and we'll try that here."
      ]
    },
    {
      "cell_type": "code",
      "metadata": {
        "id": "NqqpGJjm8ZaG"
      },
      "source": [
        "# We'll make 500 iterations, use 2-deep trees, and set our loss function.\n",
        "\n",
        "# *** It's best to update this table for the drill \n",
        "#  at the end of the lesson.  ***\n",
        "\n",
        "params = {'n_estimators': 500,\n",
        "          'max_depth': 2,\n",
        "          'loss': 'deviance'}\n",
        "\n",
        "# Initialize and fit the model.\n",
        "clf = ensemble.GradientBoostingClassifier(**params)\n",
        "clf.fit(X_train, y_train)\n",
        "\n",
        "predict_train = clf.predict(X_train)\n",
        "predict_test = clf.predict(X_test)"
      ],
      "execution_count": null,
      "outputs": []
    },
    {
      "cell_type": "markdown",
      "metadata": {
        "id": "nEIeza668ZaK"
      },
      "source": [
        "### __Evaluation of Model - Confusion Matrix Plot__\n",
        "\n",
        "based on the example here:\n",
        "\n",
        "https://scikit-learn.org/0.18/auto_examples/model_selection/plot_confusion_matrix.html"
      ]
    },
    {
      "cell_type": "code",
      "metadata": {
        "id": "YayZ5xZz8ZaK"
      },
      "source": [
        "def plot_confusion_matrix(cm, classes,normalize,\n",
        "                          title='Confusion matrix',\n",
        "                          cmap=plt.cm.Blues):\n",
        "    \"\"\"\n",
        "    This function prints and plots the confusion matrix.\n",
        "    Normalization can be applied by setting `normalize=True`.\n",
        "    \"\"\"\n",
        "    if normalize:\n",
        "        cm = cm.astype('float') / cm.sum(axis=1)[:, np.newaxis]\n",
        "        print(\"Normalized confusion matrix\")\n",
        "    else:\n",
        "        print('Confusion matrix, without normalization')\n",
        "\n",
        "    plt.imshow(cm, interpolation='nearest', cmap=cmap)\n",
        "    plt.title(title)\n",
        "    plt.colorbar()\n",
        "    tick_marks = np.arange(len(classes))\n",
        "    plt.xticks(tick_marks, classes)\n",
        "    plt.yticks(tick_marks, classes)\n",
        "    fmt = '.2f' if normalize else 'd'\n",
        "    thresh = cm.max() / 2.\n",
        "    for i, j in itertools.product(range(cm.shape[0]), range(cm.shape[1])):\n",
        "        plt.text(j, i, format(cm[i, j], fmt),\n",
        "                 horizontalalignment=\"center\", verticalalignment=\"center\",\n",
        "                 color=\"white\" if cm[i, j] > thresh else \"black\")\n",
        "    plt.ylabel('True label')\n",
        "    plt.xlabel('Predicted label')"
      ],
      "execution_count": null,
      "outputs": []
    },
    {
      "cell_type": "code",
      "metadata": {
        "id": "RNgMz4A-8ZaN",
        "outputId": "61613c96-426b-49fc-c75a-e3107efa4e83",
        "colab": {
          "base_uri": "https://localhost:8080/",
          "height": 312
        }
      },
      "source": [
        "# Confusion matrix without normalization -- TEST Set\n",
        "cm = confusion_matrix(y_test, predict_test)\n",
        "plot_confusion_matrix(cm,[0,1],False)"
      ],
      "execution_count": null,
      "outputs": [
        {
          "output_type": "stream",
          "text": [
            "Confusion matrix, without normalization\n"
          ],
          "name": "stdout"
        },
        {
          "output_type": "display_data",
          "data": {
            "image/png": "[encoded data removed]",
            "text/plain": [
              "<Figure size 432x288 with 2 Axes>"
            ]
          },
          "metadata": {
            "tags": [],
            "needs_background": "light"
          }
        }
      ]
    },
    {
      "cell_type": "code",
      "metadata": {
        "id": "l-mgmtV98ZaQ",
        "outputId": "355b6ff9-d6b9-497e-b5e4-c6f7154b5f7f",
        "colab": {
          "base_uri": "https://localhost:8080/",
          "height": 312
        }
      },
      "source": [
        "cm = confusion_matrix(y_test, predict_test)\n",
        "plot_confusion_matrix(cm,[0,1],True)"
      ],
      "execution_count": null,
      "outputs": [
        {
          "output_type": "stream",
          "text": [
            "Normalized confusion matrix\n"
          ],
          "name": "stdout"
        },
        {
          "output_type": "display_data",
          "data": {
            "image/png": "[encoded data removed]",
            "text/plain": [
              "<Figure size 432x288 with 2 Axes>"
            ]
          },
          "metadata": {
            "tags": [],
            "needs_background": "light"
          }
        }
      ]
    },
    {
      "cell_type": "code",
      "metadata": {
        "id": "HLeU5DtVVudK",
        "outputId": "48dbb94b-ecf4-460e-f1bd-8131a3520769",
        "colab": {
          "base_uri": "https://localhost:8080/",
          "height": 312
        }
      },
      "source": [
        "# Confusion matrix for Train Set\n",
        "\n",
        "# Confusion matrix without normalization\n",
        "cm_train = confusion_matrix(y_train, predict_train)\n",
        "plot_confusion_matrix(cm_train,[0,1],False)"
      ],
      "execution_count": null,
      "outputs": [
        {
          "output_type": "stream",
          "text": [
            "Confusion matrix, without normalization\n"
          ],
          "name": "stdout"
        },
        {
          "output_type": "display_data",
          "data": {
            "image/png": "[encoded data removed]",
            "text/plain": [
              "<Figure size 432x288 with 2 Axes>"
            ]
          },
          "metadata": {
            "tags": [],
            "needs_background": "light"
          }
        }
      ]
    },
    {
      "cell_type": "code",
      "metadata": {
        "id": "uawi0zZpOOK0",
        "outputId": "759625c5-5ae0-476a-d60d-9667af17c1e4",
        "colab": {
          "base_uri": "https://localhost:8080/",
          "height": 312
        }
      },
      "source": [
        "cm_train = confusion_matrix(y_train, predict_train)\n",
        "plot_confusion_matrix(cm_train,[0,1],True)"
      ],
      "execution_count": null,
      "outputs": [
        {
          "output_type": "stream",
          "text": [
            "Normalized confusion matrix\n"
          ],
          "name": "stdout"
        },
        {
          "output_type": "display_data",
          "data": {
            "image/png": "[encoded data removed]",
            "text/plain": [
              "<Figure size 432x288 with 2 Axes>"
            ]
          },
          "metadata": {
            "tags": [],
            "needs_background": "light"
          }
        }
      ]
    },
    {
      "cell_type": "code",
      "metadata": {
        "id": "I7eEVwQbUVMC",
        "outputId": "5238731b-e6cd-4cb0-f32a-509085ca589a",
        "colab": {
          "base_uri": "https://localhost:8080/"
        }
      },
      "source": [
        "train_tI_errors = cm_train[0][1] / y_train.size # false positives\n",
        "train_tII_errors = cm_train[1][0] / y_train.size # false negatives\n",
        "\n",
        "test_tI_errors = cm[0][1] / y_test.size # false positives\n",
        "test_tII_errors = cm[1][0] / y_test.size # false negatives\n",
        "\n",
        "print((\n",
        "    '--500 iterations, 2-deep trees, deviance loss function--'\n",
        "    'Training set accuracy:\\n'\n",
        "    'Percentage Type I errors: {}\\n'\n",
        "    'Percentage Type II errors: {}\\n\\n'\n",
        "    'Test set accuracy:\\n'\n",
        "    'Percentage Type I errors: {}\\n'\n",
        "    'Percentage Type II errors: {}'\n",
        ").format(train_tI_errors, train_tII_errors, test_tI_errors, test_tII_errors))"
      ],
      "execution_count": null,
      "outputs": [
        {
          "output_type": "stream",
          "text": [
            "--500 iterations, 2-deep trees, deviance loss function--Training set accuracy:\n",
            "Percentage Type I errors: 0.04603345097437471\n",
            "Percentage Type II errors: 0.1752340033757864\n",
            "\n",
            "Test set accuracy:\n",
            "Percentage Type I errors: 0.09693251533742331\n",
            "Percentage Type II errors: 0.1558282208588957\n"
          ],
          "name": "stdout"
        }
      ]
    },
    {
      "cell_type": "markdown",
      "metadata": {
        "id": "2gn5hFUo8ZaT"
      },
      "source": [
        "### Accuracy, Precision, Recall scores"
      ]
    },
    {
      "cell_type": "code",
      "metadata": {
        "id": "HCwirWJg8ZaT",
        "outputId": "379d9f4f-1904-4edd-a987-79d39585c67e",
        "colab": {
          "base_uri": "https://localhost:8080/"
        }
      },
      "source": [
        "accuracy = clf.score(X_test, y_test)\n",
        "y_pred = clf.predict(X_test)\n",
        "precision = precision_score(y_test,y_pred)\n",
        "recall = recall_score(y_test,y_pred)\n",
        "\n",
        "print((\n",
        "    '--500 iterations, 2-deep trees, deviance loss function--\\n'\n",
        "    'Accuracy: {}\\n'\n",
        "    'Precision: {}\\n'\n",
        "    'Recall: {}'\n",
        ").format(accuracy, precision, recall))"
      ],
      "execution_count": null,
      "outputs": [
        {
          "output_type": "stream",
          "text": [
            "--500 iterations, 2-deep trees, deviance loss function--\n",
            "Accuracy: 0.747239263803681\n",
            "Precision: 0.7035647279549718\n",
            "Recall: 0.5961844197138315\n"
          ],
          "name": "stdout"
        }
      ]
    },
    {
      "cell_type": "markdown",
      "metadata": {
        "id": "wvoloe_Q8ZaZ"
      },
      "source": [
        "Unlike decision trees, gradient boost solutions are not terribly easy to interpret on the surface.  But they aren't quite a black box.  We can get a measure of how important various features are by counting how many times a feature is used over the course of many decision trees."
      ]
    },
    {
      "cell_type": "code",
      "metadata": {
        "id": "9G4uryRZ8ZaZ",
        "outputId": "d6684bac-aa20-4020-b4b5-cc5ed053bde8",
        "colab": {
          "base_uri": "https://localhost:8080/",
          "height": 295
        }
      },
      "source": [
        "feature_importance = clf.feature_importances_\n",
        "\n",
        "# Make importances relative to max importance.\n",
        "feature_importance = 100.0 * (feature_importance / feature_importance.max())\n",
        "sorted_idx = np.argsort(feature_importance)\n",
        "pos = np.arange(sorted_idx.shape[0]) + .5\n",
        "plt.subplot(1, 2, 2)\n",
        "plt.barh(pos, feature_importance[sorted_idx], align='center')\n",
        "plt.yticks(pos, X.columns[sorted_idx])\n",
        "plt.xlabel('Relative Importance')\n",
        "plt.title('Variable Importance')\n",
        "plt.show()"
      ],
      "execution_count": null,
      "outputs": [
        {
          "output_type": "display_data",
          "data": {
            "image/png": "[encoded data removed]",
            "text/plain": [
              "<Figure size 432x288 with 1 Axes>"
            ]
          },
          "metadata": {
            "tags": [],
            "needs_background": "light"
          }
        }
      ]
    },
    {
      "cell_type": "markdown",
      "metadata": {
        "id": "y99XXvZt8Zab"
      },
      "source": [
        "It appears that __age__ and __happiness__ are the most important features in predicting whether or not someone lives with a partner."
      ]
    },
    {
      "cell_type": "markdown",
      "metadata": {
        "id": "Z31Q_gAgfVra"
      },
      "source": [
        "# __Improve gradient boost model__\n",
        "\n",
        "\n"
      ]
    },
    {
      "cell_type": "markdown",
      "metadata": {
        "id": "tRL5RkCKgLgp"
      },
      "source": [
        "While this model is already doing alright, but there is definitely room for improvement.  \n",
        "\n",
        "__Task:__ see how low you can get the error rates to go in the test set, based on your model in the training set using different strategies. \n",
        "\n",
        "You can learn more about the parameters for the gradient boost model [here](https://scikit-learn.org/stable/modules/generated/sklearn.ensemble.GradientBoostingClassifier.html) and update the **params** table featured earlier, before we initialized and fit the model.\n",
        "\n",
        "A few parameters to tune could be:\n",
        " - learning_rate\n",
        " - max_depth\n",
        " - n_estimators\n",
        " - loss\n",
        " - subsample\n",
        " - min_samples_split\n",
        " \n",
        "You can then use the same metrics to evaluate your results.\n",
        "---\n",
        "**Increase iterations** to 1000 iterations\n"
      ]
    },
    {
      "cell_type": "code",
      "metadata": {
        "id": "cOl7SYQxgu-q",
        "outputId": "8201afad-48a3-489f-e3f1-1a3e6a10d4a7",
        "colab": {
          "base_uri": "https://localhost:8080/"
        }
      },
      "source": [
        "# We'll make 1000 iterations, use 2-deep trees, and set our loss function.\n",
        "\n",
        "params = {'n_estimators': 1000,\n",
        "          'max_depth': 2,\n",
        "          'loss': 'deviance'}\n",
        "\n",
        "# Initialize and fit the model.\n",
        "clf = ensemble.GradientBoostingClassifier(**params)\n",
        "clf.fit(X_train, y_train)\n",
        "\n",
        "predict_train = clf.predict(X_train)\n",
        "predict_test = clf.predict(X_test)\n",
        "\n",
        "accuracy = clf.score(X_test, y_test)\n",
        "y_pred = clf.predict(X_test)\n",
        "precision = precision_score(y_test,y_pred)\n",
        "recall = recall_score(y_test,y_pred)\n",
        "\n",
        "print((\n",
        "    '--1000 iterations, 2-deep trees, deviance loss function--\\n'\n",
        "    'Accuracy: {}\\n'\n",
        "    'Precision: {}\\n'\n",
        "    'Recall: {}'\n",
        ").format(accuracy, precision, recall))\n",
        "print()\n",
        "\n",
        "cm = confusion_matrix(y_test, predict_test)\n",
        "cm_train = confusion_matrix(y_train, predict_train)\n",
        "\n",
        "train_tI_errors = cm_train[0][1] / y_train.size # false positives\n",
        "train_tII_errors = cm_train[1][0] / y_train.size # false negatives\n",
        "\n",
        "test_tI_errors = cm[0][1] / y_test.size # false positives\n",
        "test_tII_errors = cm[1][0] / y_test.size # false negatives\n",
        "\n",
        "print((\n",
        "    'Training set accuracy:\\n'\n",
        "    'Percentage Type I errors: {}\\n'\n",
        "    'Percentage Type II errors: {}\\n\\n'\n",
        "    'Test set accuracy:\\n'\n",
        "    'Percentage Type I errors: {}\\n'\n",
        "    'Percentage Type II errors: {}'\n",
        ").format(train_tI_errors, train_tII_errors, test_tI_errors, test_tII_errors))"
      ],
      "execution_count": null,
      "outputs": [
        {
          "output_type": "stream",
          "text": [
            "--1000 iterations, 2-deep trees, deviance loss function--\n",
            "Accuracy: 0.7423312883435583\n",
            "Precision: 0.7181628392484343\n",
            "Recall: 0.5468998410174881\n",
            "\n",
            "Training set accuracy:\n",
            "Percentage Type I errors: 0.04342488875249348\n",
            "Percentage Type II errors: 0.1677152063833052\n",
            "\n",
            "Test set accuracy:\n",
            "Percentage Type I errors: 0.08282208588957055\n",
            "Percentage Type II errors: 0.17484662576687116\n"
          ],
          "name": "stdout"
        }
      ]
    },
    {
      "cell_type": "markdown",
      "metadata": {
        "id": "kTw5lpw_hzFH"
      },
      "source": [
        "> Doubling iterations from 500 to 1000 did not have a drastic effect on errors. Test errors remained fairly similar and test set accuracy did not show drastic change. "
      ]
    },
    {
      "cell_type": "markdown",
      "metadata": {
        "id": "fI-kmHgilkT1"
      },
      "source": [
        "**Increase max_depth**"
      ]
    },
    {
      "cell_type": "code",
      "metadata": {
        "id": "O9wL1VjZls27",
        "outputId": "c0db2afd-5daa-46a2-ae4e-8260301eead5",
        "colab": {
          "base_uri": "https://localhost:8080/"
        }
      },
      "source": [
        "# We'll make 1000 iterations, use 2-deep trees, and set our loss function.\n",
        "\n",
        "params = {'n_estimators': 1000,\n",
        "          'max_depth': 4,\n",
        "          'loss': 'deviance'}\n",
        "\n",
        "# Initialize and fit the model.\n",
        "clf = ensemble.GradientBoostingClassifier(**params)\n",
        "clf.fit(X_train, y_train)\n",
        "\n",
        "predict_train = clf.predict(X_train)\n",
        "predict_test = clf.predict(X_test)\n",
        "\n",
        "accuracy = clf.score(X_test, y_test)\n",
        "y_pred = clf.predict(X_test)\n",
        "precision = precision_score(y_test,y_pred)\n",
        "recall = recall_score(y_test,y_pred)\n",
        "\n",
        "print((\n",
        "    '--1000 iterations, 4-deep trees, deviance loss function--\\n'\n",
        "    'Accuracy: {}\\n'\n",
        "    'Precision: {}\\n'\n",
        "    'Recall: {}'\n",
        ").format(accuracy, precision, recall))\n",
        "print()\n",
        "\n",
        "cm = confusion_matrix(y_test, predict_test)\n",
        "cm_train = confusion_matrix(y_train, predict_train)\n",
        "\n",
        "train_tI_errors = cm_train[0][1] / y_train.size # false positives\n",
        "train_tII_errors = cm_train[1][0] / y_train.size # false negatives\n",
        "\n",
        "test_tI_errors = cm[0][1] / y_test.size # false positives\n",
        "test_tII_errors = cm[1][0] / y_test.size # false negatives\n",
        "\n",
        "print((\n",
        "    'Training set accuracy:\\n'\n",
        "    'Percentage Type I errors: {}\\n'\n",
        "    'Percentage Type II errors: {}\\n\\n'\n",
        "    'Test set accuracy:\\n'\n",
        "    'Percentage Type I errors: {}\\n'\n",
        "    'Percentage Type II errors: {}'\n",
        ").format(train_tI_errors, train_tII_errors, test_tI_errors, test_tII_errors))"
      ],
      "execution_count": null,
      "outputs": [
        {
          "output_type": "stream",
          "text": [
            "--1000 iterations, 4-deep trees, deviance loss function--\n",
            "Accuracy: 0.7404907975460123\n",
            "Precision: 0.708502024291498\n",
            "Recall: 0.5564387917329093\n",
            "\n",
            "Training set accuracy:\n",
            "Percentage Type I errors: 0.010127359214362436\n",
            "Percentage Type II errors: 0.0716587386834433\n",
            "\n",
            "Test set accuracy:\n",
            "Percentage Type I errors: 0.08834355828220859\n",
            "Percentage Type II errors: 0.17116564417177915\n"
          ],
          "name": "stdout"
        }
      ]
    },
    {
      "cell_type": "markdown",
      "metadata": {
        "id": "FjjUM0uqmXZW"
      },
      "source": [
        "> Increasing max_depth resulted in overfitting."
      ]
    },
    {
      "cell_type": "markdown",
      "metadata": {
        "id": "THIWd7dMra4f"
      },
      "source": [
        "**Change Loss Function** to exponential"
      ]
    },
    {
      "cell_type": "code",
      "metadata": {
        "id": "QoQHZ4kamXB4",
        "outputId": "d5959108-c0eb-4ebf-d54c-b691b9f21107",
        "colab": {
          "base_uri": "https://localhost:8080/"
        }
      },
      "source": [
        "params = {'n_estimators': 1000,\n",
        "          'max_depth': 2,\n",
        "          'loss': 'exponential'}\n",
        "\n",
        "# Initialize and fit the model.\n",
        "clf = ensemble.GradientBoostingClassifier(**params)\n",
        "clf.fit(X_train, y_train)\n",
        "\n",
        "predict_train = clf.predict(X_train)\n",
        "predict_test = clf.predict(X_test)\n",
        "\n",
        "accuracy = clf.score(X_test, y_test)\n",
        "y_pred = clf.predict(X_test)\n",
        "precision = precision_score(y_test,y_pred)\n",
        "recall = recall_score(y_test,y_pred)\n",
        "\n",
        "print((\n",
        "    '--1000 iterations, 4-deep trees, deviance loss function--\\n'\n",
        "    'Accuracy: {}\\n'\n",
        "    'Precision: {}\\n'\n",
        "    'Recall: {}'\n",
        ").format(accuracy, precision, recall))\n",
        "print()\n",
        "\n",
        "cm = confusion_matrix(y_test, predict_test)\n",
        "cm_train = confusion_matrix(y_train, predict_train)\n",
        "\n",
        "train_tI_errors = cm_train[0][1] / y_train.size # false positives\n",
        "train_tII_errors = cm_train[1][0] / y_train.size # false negatives\n",
        "\n",
        "test_tI_errors = cm[0][1] / y_test.size # false positives\n",
        "test_tII_errors = cm[1][0] / y_test.size # false negatives\n",
        "\n",
        "print((\n",
        "    'Training set accuracy:\\n'\n",
        "    'Percentage Type I errors: {}\\n'\n",
        "    'Percentage Type II errors: {}\\n\\n'\n",
        "    'Test set accuracy:\\n'\n",
        "    'Percentage Type I errors: {}\\n'\n",
        "    'Percentage Type II errors: {}'\n",
        ").format(train_tI_errors, train_tII_errors, test_tI_errors, test_tII_errors))"
      ],
      "execution_count": null,
      "outputs": [
        {
          "output_type": "stream",
          "text": [
            "--1000 iterations, 4-deep trees, deviance loss function--\n",
            "Accuracy: 0.7404907975460123\n",
            "Precision: 0.6845878136200717\n",
            "Recall: 0.6073131955484896\n",
            "\n",
            "Training set accuracy:\n",
            "Percentage Type I errors: 0.045880006137793465\n",
            "Percentage Type II errors: 0.16894276507595518\n",
            "\n",
            "Test set accuracy:\n",
            "Percentage Type I errors: 0.10797546012269939\n",
            "Percentage Type II errors: 0.15153374233128836\n"
          ],
          "name": "stdout"
        }
      ]
    },
    {
      "cell_type": "markdown",
      "metadata": {
        "id": "LKecMy-ztvi4"
      },
      "source": [
        "> Changing loss function from 'deviance' to 'exponential' did not improve our error rates from our initial model."
      ]
    }
  ]
}