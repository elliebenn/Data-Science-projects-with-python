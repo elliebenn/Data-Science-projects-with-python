{
  "nbformat": 4,
  "nbformat_minor": 0,
  "metadata": {
    "colab": {
      "name": "mathematica_HOSPITAL_SAFETY.ipynb",
      "provenance": [],
      "collapsed_sections": []
    },
    "kernelspec": {
      "name": "python3",
      "display_name": "Python 3"
    },
    "language_info": {
      "name": "python"
    }
  },
  "cells": [
    {
      "cell_type": "markdown",
      "metadata": {
        "id": "gvEUk8vAEGfg"
      },
      "source": [
        "# **1. Introduction and Overview**\n",
        "\n",
        "**Background**\n",
        "\n",
        "The dataset(HOSPITAL_SAFETY.xlsx) contains information about two sets of hospitals, one that participated in a policy intervention designed to improve patient safety (Treatment = TRUE), and one that did not.  The goal was to reduce central-line associated blood stream infections (CLABSIs), with lower rates being more desirable. The policy was implemented at the beginning of 2016. The pre-intervention results are in the SIR15 column, and the post-intervention results are in the SIR16 column.\n",
        "\n",
        "**Task**\n",
        "\n",
        "Complete an initial analysis of the data to estimate the effect of the intervention on CLABSI rates. \n",
        "\n",
        "**Hypotheses**\n",
        "The null hypothesis is there is no significant increase(or decrease) in the CLABSI rates between 2015 and 2016 in those patients with and without treatment. The alternative hypothesis is that there is a substantial increase(or decrease) in CLABSI rates between 2015 and 2016. Our target variable will be a difference of 2015 rates and 2016 rates.\n",
        "\n",
        "**Methods**\n",
        "\n",
        "I will be testing these hypotheses by performing t-tests to obtain a p-value and confidence level using Python and Python libraries, specifically Pandas (for data cleaning and analysis) and Seaborn (for visuals).\n",
        "\n",
        "**Findings**\n",
        "\n",
        "Upon testing for normality, I concluded that the data close enought to normal distribution for us to begin testing. We were unable to reject the null from our ttest with pvalue of .1992. There is no effect in CLABSI rates between patients who received intervention versus those that did receive treatment. Treatment does not have an effect on CLABSI rates.\n",
        "\n",
        "**Conclusions**\n",
        "We can conclude there is no evidence that the policy intervention is affecting CLABSI rates. \n",
        "\n",
        "**Limitations and Future Recommendations**\n",
        "\n",
        "One potential limiter we have is the amount of missing data we have for important features detrimental to our analysis such as TREATMENT and central-line associated blood stream infection rates(SIR16 & SIR15). \n",
        "\n",
        "I initially began this analysis fairly confident we'd be able to perform a t-test and be able to confidently reject or accept the null hypothesis. The target variable not being normally distributed was something that stumped me. During my training through Thinkful, if the data appeared normally distributed, we were not able to fully accept that as being normally distributed. It is always important to check mathematiclaly if that is the case. While it was initiallly taught to me that the levels of skewness and kurtosis were -3 to 3 for both, after some research, I discovered last night that this scale could be more lenient. Some sites stated that kurtosis could be more lenient in that range with -10 to 10. With this new knowledge, I proceeded with accepting our target variable as normally distributed and performed ttest to determine if we would reject or accept the null hypothesis. \n",
        "\n",
        "Due to time limitations, I would have liked to perform regression and checked what exact effect treatment had on rates. "
      ]
    },
    {
      "cell_type": "markdown",
      "metadata": {
        "id": "pJprjs4OxUp6"
      },
      "source": [
        "| Feature Name      | Description |\n",
        "| :---        |    :------   |  \n",
        "| HOSP.ID      | Hospital Identifier | \n",
        "| NAME   | Hospital name | \n",
        "| COUNTY | Hospital geographic county | \n",
        "| REGION    | US Census Division | \n",
        "| URBAN_RURAL   | Defines whether hospital is in an urban or rural location |  \n",
        "| WAGE_INDEX    | Measures cost of labor in geographic area, where higher values translates to more expensive staff/higher salaries | \n",
        "| RESIDENT_TO_BEDS   | Number of medical students per hospital beds| \n",
        "| BEDS   | Number of beds available for patients at the hospital| \n",
        "| DSHPCT   | Measures the proportion of poor, eledrly, frail, or disabled patients at a hospital, where higher values indicate greater proportions| \n",
        "| COST_TO_CHARGE   | A measure of profit, where higher values equal greater profit margins| \n",
        "| ANNUAL_VOLUME   | Number of patients seen at the hospital in a given year        | \n",
        "| CASEMIX   | Measures patient sickness, where higher levels corresponds to sicker or more complex patients| \n",
        "| TYPE   | Hospital type | \n",
        "| OWNERSHIP   | Hospital ownership | \n",
        "| EMERGENCY_SERVICES   | Emergency services available at this hospital | \n",
        "| USES_EHRs   | Uses approved electronic health records | \n",
        "| DENOM16   | Number of days patients had a central line in 2016 | \n",
        "| SIR16   | CLABSI rate in 2016 | \n",
        "| DENOM15   | Number of dates patients had a central line in 2015 | \n",
        "| SIR15   | CLABSI rate in 2015 | \n",
        "| TREATMENT   | Participation in a national demonsttration to reduce infections. This intervention included the use of a checklist, best practices, and the employment of a full-time patient safety expert that uses advanced analytics. | "
      ]
    },
    {
      "cell_type": "markdown",
      "metadata": {
        "id": "Wt8EzfPM2mIg"
      },
      "source": [
        "# **2. Hypothesis**\n",
        "The null and alternative hypotheses are as follows:\n",
        "\n",
        "**Ho:** There is no effect in CLABSI rates between patients who received intervention versus those that did receive treatment. Treatment does not have an effect on CLABSI rates.\n",
        "\n",
        "**Ha:** There is a significant difference in CLABSI rates between patients who received intervention versus those that did receive treatment. Treatment does have an effect on CLABSI rates.\n",
        "\n"
      ]
    },
    {
      "cell_type": "markdown",
      "metadata": {
        "id": "u2pQYpVa37c4"
      },
      "source": [
        "# **3. Data**\n",
        "\n",
        "The dataset contains 3263 patients' data containing 21 features with information such as number of beds available at hospital they stayed at, hospital type, to  central-line associated blood stream infection rates for both 2015 and 2016. Of the 3263 patients, we only have treatment indication info for 3010 patients. Of those 3010 patients whom we currently know whether or not they had treatment, 63% received treamtent. \n"
      ]
    },
    {
      "cell_type": "code",
      "metadata": {
        "id": "wllbEpPUu19p"
      },
      "source": [
        "# imports\n",
        "import pandas as pd # add description here\n",
        "import numpy as np\n",
        "from scipy import stats\n",
        "import seaborn as sns\n",
        "import matplotlib.pyplot as plt\n",
        "\n",
        "# import statsmodels.stats.proportion as proportions_ztest"
      ],
      "execution_count": 2,
      "outputs": []
    },
    {
      "cell_type": "code",
      "metadata": {
        "colab": {
          "base_uri": "https://localhost:8080/"
        },
        "id": "TlJwE-5B97jw",
        "outputId": "4538bc2d-fdc5-4f11-be42-e69e60df0add"
      },
      "source": [
        "from google.colab import drive # mount google drive to access file\n",
        "drive.mount('/content/gdrive')"
      ],
      "execution_count": 3,
      "outputs": [
        {
          "output_type": "stream",
          "text": [
            "Mounted at /content/gdrive\n"
          ],
          "name": "stdout"
        }
      ]
    },
    {
      "cell_type": "code",
      "metadata": {
        "id": "9Dl8wWbmEd6w"
      },
      "source": [
        "root_path = '/content/gdrive/MyDrive/python_for_data_scientists/HOSPITAL_SAFETY__excel.xlsx' # root path of document\n",
        "df = pd.read_excel(root_path) # upload root path to dataframe"
      ],
      "execution_count": 40,
      "outputs": []
    },
    {
      "cell_type": "code",
      "metadata": {
        "colab": {
          "base_uri": "https://localhost:8080/",
          "height": 445
        },
        "id": "TWoZNOFKDIyw",
        "outputId": "18820be8-16f7-4b93-8ae1-b9ce74042281"
      },
      "source": [
        "df.head() # brief look at data by looking at top 5 columns"
      ],
      "execution_count": 15,
      "outputs": [
        {
          "output_type": "execute_result",
          "data": {
            "text/html": [
              "<div>\n",
              "<style scoped>\n",
              "    .dataframe tbody tr th:only-of-type {\n",
              "        vertical-align: middle;\n",
              "    }\n",
              "\n",
              "    .dataframe tbody tr th {\n",
              "        vertical-align: top;\n",
              "    }\n",
              "\n",
              "    .dataframe thead th {\n",
              "        text-align: right;\n",
              "    }\n",
              "</style>\n",
              "<table border=\"1\" class=\"dataframe\">\n",
              "  <thead>\n",
              "    <tr style=\"text-align: right;\">\n",
              "      <th></th>\n",
              "      <th>HOSP.ID</th>\n",
              "      <th>NAME</th>\n",
              "      <th>COUNTY</th>\n",
              "      <th>REGION</th>\n",
              "      <th>URBAN_RURAL</th>\n",
              "      <th>WAGE_INDEX</th>\n",
              "      <th>RESIDENT_TO_BEDS</th>\n",
              "      <th>BEDS</th>\n",
              "      <th>DSHPCT</th>\n",
              "      <th>COST_TO_CHARGE</th>\n",
              "      <th>ANNUAL_VOLUME</th>\n",
              "      <th>CASEMIX</th>\n",
              "      <th>TYPE</th>\n",
              "      <th>OWNERSHIP</th>\n",
              "      <th>EMERGENCY_SERVICES</th>\n",
              "      <th>USES_EHRs</th>\n",
              "      <th>DENOM16</th>\n",
              "      <th>SIR16</th>\n",
              "      <th>DENOM15</th>\n",
              "      <th>SIR15</th>\n",
              "      <th>TREATMENT</th>\n",
              "    </tr>\n",
              "  </thead>\n",
              "  <tbody>\n",
              "    <tr>\n",
              "      <th>0</th>\n",
              "      <td>10001</td>\n",
              "      <td>SOUTHEAST ALABAMA MEDICAL CENTER</td>\n",
              "      <td>1340</td>\n",
              "      <td>5</td>\n",
              "      <td>OURBAN</td>\n",
              "      <td>0.7704</td>\n",
              "      <td>0.0</td>\n",
              "      <td>408</td>\n",
              "      <td>0.29862</td>\n",
              "      <td>0.197</td>\n",
              "      <td>7939</td>\n",
              "      <td>1.750650</td>\n",
              "      <td>Acute Care Hospitals</td>\n",
              "      <td>Government - Hospital District or Authority</td>\n",
              "      <td>True</td>\n",
              "      <td>1.0</td>\n",
              "      <td>7264.0</td>\n",
              "      <td>0.688</td>\n",
              "      <td>7117.0</td>\n",
              "      <td>2.816</td>\n",
              "      <td>1.0</td>\n",
              "    </tr>\n",
              "    <tr>\n",
              "      <th>1</th>\n",
              "      <td>10005</td>\n",
              "      <td>MARSHALL MEDICAL CENTER SOUTH</td>\n",
              "      <td>1470</td>\n",
              "      <td>5</td>\n",
              "      <td>RURAL</td>\n",
              "      <td>0.8212</td>\n",
              "      <td>0.0</td>\n",
              "      <td>204</td>\n",
              "      <td>0.27654</td>\n",
              "      <td>0.303</td>\n",
              "      <td>4036</td>\n",
              "      <td>1.343089</td>\n",
              "      <td>Acute Care Hospitals</td>\n",
              "      <td>Government - Hospital District or Authority</td>\n",
              "      <td>True</td>\n",
              "      <td>1.0</td>\n",
              "      <td>2464.0</td>\n",
              "      <td>0.000</td>\n",
              "      <td>2786.0</td>\n",
              "      <td>2.114</td>\n",
              "      <td>0.0</td>\n",
              "    </tr>\n",
              "    <tr>\n",
              "      <th>2</th>\n",
              "      <td>10006</td>\n",
              "      <td>ELIZA COFFEE MEMORIAL HOSPITAL</td>\n",
              "      <td>1380</td>\n",
              "      <td>5</td>\n",
              "      <td>OURBAN</td>\n",
              "      <td>0.7325</td>\n",
              "      <td>0.0</td>\n",
              "      <td>358</td>\n",
              "      <td>0.24028</td>\n",
              "      <td>0.186</td>\n",
              "      <td>5132</td>\n",
              "      <td>1.668372</td>\n",
              "      <td>Acute Care Hospitals</td>\n",
              "      <td>Government - Hospital District or Authority</td>\n",
              "      <td>True</td>\n",
              "      <td>1.0</td>\n",
              "      <td>8711.0</td>\n",
              "      <td>1.563</td>\n",
              "      <td>11159.0</td>\n",
              "      <td>0.639</td>\n",
              "      <td>0.0</td>\n",
              "    </tr>\n",
              "    <tr>\n",
              "      <th>3</th>\n",
              "      <td>10007</td>\n",
              "      <td>MIZELL MEMORIAL HOSPITAL</td>\n",
              "      <td>1190</td>\n",
              "      <td>5</td>\n",
              "      <td>RURAL</td>\n",
              "      <td>0.6874</td>\n",
              "      <td>0.0</td>\n",
              "      <td>78</td>\n",
              "      <td>0.19347</td>\n",
              "      <td>0.368</td>\n",
              "      <td>645</td>\n",
              "      <td>1.012308</td>\n",
              "      <td>Acute Care Hospitals</td>\n",
              "      <td>Voluntary non-profit - Private</td>\n",
              "      <td>True</td>\n",
              "      <td>1.0</td>\n",
              "      <td>282.0</td>\n",
              "      <td>NaN</td>\n",
              "      <td>48.0</td>\n",
              "      <td>NaN</td>\n",
              "      <td>0.0</td>\n",
              "    </tr>\n",
              "    <tr>\n",
              "      <th>4</th>\n",
              "      <td>10008</td>\n",
              "      <td>CRENSHAW COMMUNITY HOSPITAL</td>\n",
              "      <td>1200</td>\n",
              "      <td>5</td>\n",
              "      <td>RURAL</td>\n",
              "      <td>0.6973</td>\n",
              "      <td>0.0</td>\n",
              "      <td>29</td>\n",
              "      <td>0.36918</td>\n",
              "      <td>0.493</td>\n",
              "      <td>285</td>\n",
              "      <td>0.928597</td>\n",
              "      <td>Acute Care Hospitals</td>\n",
              "      <td>Proprietary</td>\n",
              "      <td>True</td>\n",
              "      <td>1.0</td>\n",
              "      <td>55.0</td>\n",
              "      <td>NaN</td>\n",
              "      <td>28.0</td>\n",
              "      <td>NaN</td>\n",
              "      <td>1.0</td>\n",
              "    </tr>\n",
              "  </tbody>\n",
              "</table>\n",
              "</div>"
            ],
            "text/plain": [
              "   HOSP.ID                              NAME  COUNTY  ...  DENOM15  SIR15  TREATMENT\n",
              "0    10001  SOUTHEAST ALABAMA MEDICAL CENTER    1340  ...   7117.0  2.816        1.0\n",
              "1    10005     MARSHALL MEDICAL CENTER SOUTH    1470  ...   2786.0  2.114        0.0\n",
              "2    10006    ELIZA COFFEE MEMORIAL HOSPITAL    1380  ...  11159.0  0.639        0.0\n",
              "3    10007          MIZELL MEMORIAL HOSPITAL    1190  ...     48.0    NaN        0.0\n",
              "4    10008       CRENSHAW COMMUNITY HOSPITAL    1200  ...     28.0    NaN        1.0\n",
              "\n",
              "[5 rows x 21 columns]"
            ]
          },
          "metadata": {
            "tags": []
          },
          "execution_count": 15
        }
      ]
    },
    {
      "cell_type": "code",
      "metadata": {
        "colab": {
          "base_uri": "https://localhost:8080/"
        },
        "id": "gAM7TPjs4Xox",
        "outputId": "f18f05ec-ac8a-4457-bbaf-6555685240ec"
      },
      "source": [
        "df.info() # brief summary of dataframe, datatypes, and non-null counts"
      ],
      "execution_count": 6,
      "outputs": [
        {
          "output_type": "stream",
          "text": [
            "<class 'pandas.core.frame.DataFrame'>\n",
            "RangeIndex: 3263 entries, 0 to 3262\n",
            "Data columns (total 21 columns):\n",
            " #   Column              Non-Null Count  Dtype  \n",
            "---  ------              --------------  -----  \n",
            " 0   HOSP.ID             3263 non-null   int64  \n",
            " 1   NAME                3262 non-null   object \n",
            " 2   COUNTY              3263 non-null   int64  \n",
            " 3   REGION              3263 non-null   int64  \n",
            " 4   URBAN_RURAL         3263 non-null   object \n",
            " 5   WAGE_INDEX          3263 non-null   float64\n",
            " 6   RESIDENT_TO_BEDS    3263 non-null   float64\n",
            " 7   BEDS                3263 non-null   int64  \n",
            " 8   DSHPCT              3263 non-null   float64\n",
            " 9   COST_TO_CHARGE      3263 non-null   float64\n",
            " 10  ANNUAL_VOLUME       3263 non-null   int64  \n",
            " 11  CASEMIX             3263 non-null   float64\n",
            " 12  TYPE                3263 non-null   object \n",
            " 13  OWNERSHIP           3263 non-null   object \n",
            " 14  EMERGENCY_SERVICES  3263 non-null   bool   \n",
            " 15  USES_EHRs           3207 non-null   float64\n",
            " 16  DENOM16             3040 non-null   float64\n",
            " 17  SIR16               2005 non-null   float64\n",
            " 18  DENOM15             3038 non-null   float64\n",
            " 19  SIR15               2038 non-null   float64\n",
            " 20  TREATMENT           3010 non-null   float64\n",
            "dtypes: bool(1), float64(11), int64(5), object(4)\n",
            "memory usage: 513.2+ KB\n"
          ],
          "name": "stdout"
        }
      ]
    },
    {
      "cell_type": "code",
      "metadata": {
        "colab": {
          "base_uri": "https://localhost:8080/"
        },
        "id": "8t47OMQS5eGw",
        "outputId": "2152b0bc-3030-429f-c39f-83b7b1106e15"
      },
      "source": [
        "# percentage of patients who received treatment vs those that did not for patients who we do have that information for. \n",
        "print('----Percentage of patients with vs without internvention----')\n",
        "print((df.TREATMENT.value_counts()/df.shape[0])*100)\n",
        "print()\n",
        "print('---Treatment Counts---')\n",
        "print(df.TREATMENT.value_counts())"
      ],
      "execution_count": 16,
      "outputs": [
        {
          "output_type": "stream",
          "text": [
            "----Percentage of patients with vs without internvention----\n",
            "1.0    63.009500\n",
            "0.0    29.236899\n",
            "Name: TREATMENT, dtype: float64\n",
            "\n",
            "---Treatment Counts---\n",
            "1.0    2056\n",
            "0.0     954\n",
            "Name: TREATMENT, dtype: int64\n"
          ],
          "name": "stdout"
        }
      ]
    },
    {
      "cell_type": "markdown",
      "metadata": {
        "id": "2XaO0KV-bRV9"
      },
      "source": [
        "We have nearly twice the number of patients with internvention as without intervention. A difference in sample size is not an issue for an independent samples t-test. Each sample is large enough and should give reliable estimates, given the data meets the rest of our assumptions.\n",
        "\n",
        "Let's continue with the analysis."
      ]
    },
    {
      "cell_type": "markdown",
      "metadata": {
        "id": "OAq4Z8blHVjp"
      },
      "source": [
        "**Data Cleaning**"
      ]
    },
    {
      "cell_type": "markdown",
      "metadata": {
        "id": "xYrtO8RrXXbV"
      },
      "source": [
        "One potential limiter we have is the amount of missing data we have for important features detrimental to our analysis such as TREATMENT and central-line associated blood stream infection rates(SIR16 & SIR15).\n",
        "\n",
        "We will need to address how to handle these missing values before beginnning any analysis. "
      ]
    },
    {
      "cell_type": "code",
      "metadata": {
        "colab": {
          "base_uri": "https://localhost:8080/"
        },
        "id": "jlTM240v5Jri",
        "outputId": "6268d05f-0c41-4bf4-f8a5-6b0e49ba44b1"
      },
      "source": [
        "# display column name and percentage of missing values\n",
        "df.isnull().sum()*100/df.isnull().count()"
      ],
      "execution_count": 37,
      "outputs": [
        {
          "output_type": "execute_result",
          "data": {
            "text/plain": [
              "HOSP.ID                0.000000\n",
              "NAME                   0.030647\n",
              "COUNTY                 0.000000\n",
              "REGION                 0.000000\n",
              "URBAN_RURAL            0.000000\n",
              "WAGE_INDEX             0.000000\n",
              "RESIDENT_TO_BEDS       0.000000\n",
              "BEDS                   0.000000\n",
              "DSHPCT                 0.000000\n",
              "COST_TO_CHARGE         0.000000\n",
              "ANNUAL_VOLUME          0.000000\n",
              "CASEMIX                0.000000\n",
              "TYPE                   0.000000\n",
              "OWNERSHIP              0.000000\n",
              "EMERGENCY_SERVICES     0.000000\n",
              "USES_EHRs              1.716212\n",
              "DENOM16                6.834202\n",
              "SIR16                 38.553478\n",
              "DENOM15                6.895495\n",
              "SIR15                 37.542139\n",
              "TREATMENT              7.753601\n",
              "dtype: float64"
            ]
          },
          "metadata": {
            "tags": []
          },
          "execution_count": 37
        }
      ]
    },
    {
      "cell_type": "markdown",
      "metadata": {
        "id": "bbB0LVnlHH_B"
      },
      "source": [
        "We note right away by first glance of looking at our data that we have features with missing values. We will need to address these while also taking a closer look at any missing data.\n",
        "\n",
        "We cannot have any null or missing values directly relating to our target variable, so these rows will need to be eliminated. We note there are features with around 40% of values missing. I felt the best method for this particular case would be to drop the missing values as artificially filling in missing using imputations or other methods could skew our results. "
      ]
    },
    {
      "cell_type": "code",
      "metadata": {
        "id": "WCpyNs8OvhQb",
        "colab": {
          "base_uri": "https://localhost:8080/"
        },
        "outputId": "a3f884ae-af4a-4db8-8244-13185ef53b67"
      },
      "source": [
        "df.dropna(inplace=True) # drop nulls\n",
        "\n",
        "# diplay percentage of missing values after dropping nulls\n",
        "df.isnull().sum()*100/df.isnull().count()"
      ],
      "execution_count": 41,
      "outputs": [
        {
          "output_type": "execute_result",
          "data": {
            "text/plain": [
              "HOSP.ID               0.0\n",
              "NAME                  0.0\n",
              "COUNTY                0.0\n",
              "REGION                0.0\n",
              "URBAN_RURAL           0.0\n",
              "WAGE_INDEX            0.0\n",
              "RESIDENT_TO_BEDS      0.0\n",
              "BEDS                  0.0\n",
              "DSHPCT                0.0\n",
              "COST_TO_CHARGE        0.0\n",
              "ANNUAL_VOLUME         0.0\n",
              "CASEMIX               0.0\n",
              "TYPE                  0.0\n",
              "OWNERSHIP             0.0\n",
              "EMERGENCY_SERVICES    0.0\n",
              "USES_EHRs             0.0\n",
              "DENOM16               0.0\n",
              "SIR16                 0.0\n",
              "DENOM15               0.0\n",
              "SIR15                 0.0\n",
              "TREATMENT             0.0\n",
              "dtype: float64"
            ]
          },
          "metadata": {
            "tags": []
          },
          "execution_count": 41
        }
      ]
    },
    {
      "cell_type": "code",
      "metadata": {
        "colab": {
          "base_uri": "https://localhost:8080/"
        },
        "id": "t2FOy6SB3TK6",
        "outputId": "4a9aefc7-b6eb-43ef-d87b-ac98fff971fe"
      },
      "source": [
        "df.info()"
      ],
      "execution_count": 39,
      "outputs": [
        {
          "output_type": "stream",
          "text": [
            "<class 'pandas.core.frame.DataFrame'>\n",
            "Int64Index: 1954 entries, 0 to 3262\n",
            "Data columns (total 21 columns):\n",
            " #   Column              Non-Null Count  Dtype  \n",
            "---  ------              --------------  -----  \n",
            " 0   HOSP.ID             1954 non-null   int64  \n",
            " 1   NAME                1954 non-null   object \n",
            " 2   COUNTY              1954 non-null   int64  \n",
            " 3   REGION              1954 non-null   int64  \n",
            " 4   URBAN_RURAL         1954 non-null   object \n",
            " 5   WAGE_INDEX          1954 non-null   float64\n",
            " 6   RESIDENT_TO_BEDS    1954 non-null   float64\n",
            " 7   BEDS                1954 non-null   int64  \n",
            " 8   DSHPCT              1954 non-null   float64\n",
            " 9   COST_TO_CHARGE      1954 non-null   float64\n",
            " 10  ANNUAL_VOLUME       1954 non-null   int64  \n",
            " 11  CASEMIX             1954 non-null   float64\n",
            " 12  TYPE                1954 non-null   object \n",
            " 13  OWNERSHIP           1954 non-null   object \n",
            " 14  EMERGENCY_SERVICES  1954 non-null   bool   \n",
            " 15  USES_EHRs           1954 non-null   float64\n",
            " 16  DENOM16             1954 non-null   float64\n",
            " 17  SIR16               1954 non-null   float64\n",
            " 18  DENOM15             1954 non-null   float64\n",
            " 19  SIR15               1954 non-null   float64\n",
            " 20  TREATMENT           1954 non-null   float64\n",
            "dtypes: bool(1), float64(11), int64(5), object(4)\n",
            "memory usage: 322.5+ KB\n"
          ],
          "name": "stdout"
        }
      ]
    },
    {
      "cell_type": "markdown",
      "metadata": {
        "id": "mR5OCBKwRzuT"
      },
      "source": [
        "We now have no missing information now, so we can proceed with our analysis. "
      ]
    },
    {
      "cell_type": "markdown",
      "metadata": {
        "id": "LUn6LPsgR-mH"
      },
      "source": [
        "# **4. Methods**"
      ]
    },
    {
      "cell_type": "markdown",
      "metadata": {
        "id": "zUbpdMzeXxzu"
      },
      "source": [
        "We will create a new variable that represents the difference in CLABSI scores from 2015 and 2016. This will be our target variable. "
      ]
    },
    {
      "cell_type": "code",
      "metadata": {
        "colab": {
          "base_uri": "https://localhost:8080/"
        },
        "id": "MvCX8SIHS_Ti",
        "outputId": "4282191d-ff55-45d6-cd4d-aba827f34af1"
      },
      "source": [
        "# create new variable for differences in CLABSI scores from 2015 to 2016\n",
        "df['CLABSI_diff'] = df.SIR16 - df.SIR15\n",
        "df.CLABSI_diff.describe()"
      ],
      "execution_count": 42,
      "outputs": [
        {
          "output_type": "execute_result",
          "data": {
            "text/plain": [
              "count    1954.000000\n",
              "mean       -0.138336\n",
              "std         0.886034\n",
              "min        -7.171000\n",
              "25%        -0.572000\n",
              "50%        -0.066000\n",
              "75%         0.296750\n",
              "max         6.055000\n",
              "Name: CLABSI_diff, dtype: float64"
            ]
          },
          "metadata": {
            "tags": []
          },
          "execution_count": 42
        }
      ]
    },
    {
      "cell_type": "code",
      "metadata": {
        "colab": {
          "base_uri": "https://localhost:8080/"
        },
        "id": "aBddwEqEE08H",
        "outputId": "08a5a1a9-d336-485a-dbd7-08e37adbaa87"
      },
      "source": [
        "no_treatment = df[(df['TREATMENT'] == 0)]\n",
        "no_treatment.info()\n",
        "print()\n",
        "yes_treatment = df[(df['TREATMENT'] == 1)]\n",
        "yes_treatment.info()"
      ],
      "execution_count": 20,
      "outputs": [
        {
          "output_type": "stream",
          "text": [
            "<class 'pandas.core.frame.DataFrame'>\n",
            "Int64Index: 755 entries, 1 to 3242\n",
            "Data columns (total 22 columns):\n",
            " #   Column              Non-Null Count  Dtype  \n",
            "---  ------              --------------  -----  \n",
            " 0   HOSP.ID             755 non-null    int64  \n",
            " 1   NAME                755 non-null    object \n",
            " 2   COUNTY              755 non-null    int64  \n",
            " 3   REGION              755 non-null    int64  \n",
            " 4   URBAN_RURAL         755 non-null    object \n",
            " 5   WAGE_INDEX          755 non-null    float64\n",
            " 6   RESIDENT_TO_BEDS    755 non-null    float64\n",
            " 7   BEDS                755 non-null    int64  \n",
            " 8   DSHPCT              755 non-null    float64\n",
            " 9   COST_TO_CHARGE      755 non-null    float64\n",
            " 10  ANNUAL_VOLUME       755 non-null    int64  \n",
            " 11  CASEMIX             755 non-null    float64\n",
            " 12  TYPE                755 non-null    object \n",
            " 13  OWNERSHIP           755 non-null    object \n",
            " 14  EMERGENCY_SERVICES  755 non-null    bool   \n",
            " 15  USES_EHRs           755 non-null    float64\n",
            " 16  DENOM16             755 non-null    float64\n",
            " 17  SIR16               755 non-null    float64\n",
            " 18  DENOM15             755 non-null    float64\n",
            " 19  SIR15               755 non-null    float64\n",
            " 20  TREATMENT           755 non-null    float64\n",
            " 21  CLABSI_diff         755 non-null    float64\n",
            "dtypes: bool(1), float64(12), int64(5), object(4)\n",
            "memory usage: 130.5+ KB\n",
            "\n",
            "<class 'pandas.core.frame.DataFrame'>\n",
            "Int64Index: 1199 entries, 0 to 3262\n",
            "Data columns (total 22 columns):\n",
            " #   Column              Non-Null Count  Dtype  \n",
            "---  ------              --------------  -----  \n",
            " 0   HOSP.ID             1199 non-null   int64  \n",
            " 1   NAME                1199 non-null   object \n",
            " 2   COUNTY              1199 non-null   int64  \n",
            " 3   REGION              1199 non-null   int64  \n",
            " 4   URBAN_RURAL         1199 non-null   object \n",
            " 5   WAGE_INDEX          1199 non-null   float64\n",
            " 6   RESIDENT_TO_BEDS    1199 non-null   float64\n",
            " 7   BEDS                1199 non-null   int64  \n",
            " 8   DSHPCT              1199 non-null   float64\n",
            " 9   COST_TO_CHARGE      1199 non-null   float64\n",
            " 10  ANNUAL_VOLUME       1199 non-null   int64  \n",
            " 11  CASEMIX             1199 non-null   float64\n",
            " 12  TYPE                1199 non-null   object \n",
            " 13  OWNERSHIP           1199 non-null   object \n",
            " 14  EMERGENCY_SERVICES  1199 non-null   bool   \n",
            " 15  USES_EHRs           1199 non-null   float64\n",
            " 16  DENOM16             1199 non-null   float64\n",
            " 17  SIR16               1199 non-null   float64\n",
            " 18  DENOM15             1199 non-null   float64\n",
            " 19  SIR15               1199 non-null   float64\n",
            " 20  TREATMENT           1199 non-null   float64\n",
            " 21  CLABSI_diff         1199 non-null   float64\n",
            "dtypes: bool(1), float64(12), int64(5), object(4)\n",
            "memory usage: 207.2+ KB\n"
          ],
          "name": "stdout"
        }
      ]
    },
    {
      "cell_type": "markdown",
      "metadata": {
        "id": "aJ9z2cKwcKYv"
      },
      "source": [
        "Using matplotlib.pyplot we can plot histograms of each sample. By setting alpha = .5, transparency of each histogram is reduced so we can more easily make out overlapping areas."
      ]
    },
    {
      "cell_type": "code",
      "metadata": {
        "colab": {
          "base_uri": "https://localhost:8080/",
          "height": 351
        },
        "id": "CSwHeIAqcJuQ",
        "outputId": "1bdcb2c2-702f-416c-b631-36c0ae0ce595"
      },
      "source": [
        "plt.figure(figsize=(15,5))\n",
        "plt.hist(no_treatment['CLABSI_diff'], alpha = .5, label = \"intervention no\")\n",
        "plt.hist(yes_treatment['CLABSI_diff'], alpha = .5, label = \"intervention yes\")\n",
        "plt.gca().set(title='Frequency Histogram of Differences in 2015 and 2016 CLABSI Rates', ylabel='Frequency', xlabel='CLABSI_diff')\n",
        "plt.legend(loc=\"upper right\")\n",
        "plt.show()"
      ],
      "execution_count": 21,
      "outputs": [
        {
          "output_type": "display_data",
          "data": {
            "image/png": "[encoded data removed]",
            "text/plain": [
              "<Figure size 1080x360 with 1 Axes>"
            ]
          },
          "metadata": {
            "tags": [],
            "needs_background": "light"
          }
        }
      ]
    },
    {
      "cell_type": "markdown",
      "metadata": {
        "id": "GDlsAnW0c179"
      },
      "source": [
        "It appears from the histograms that this data does fit a bell curve. We do note that patients with intervential does have a higher peak in distribution. Let's retrieve the exact measures of skewness and kurtosis to determine normality. "
      ]
    },
    {
      "cell_type": "code",
      "metadata": {
        "colab": {
          "base_uri": "https://localhost:8080/"
        },
        "id": "8LJCanL_YsSb",
        "outputId": "9ec890a9-8754-45a9-acf2-6cfe767ceef4"
      },
      "source": [
        "print(stats.describe(no_treatment['CLABSI_diff']))\n",
        "print(stats.describe(yes_treatment['CLABSI_diff']))"
      ],
      "execution_count": 48,
      "outputs": [
        {
          "output_type": "stream",
          "text": [
            "DescribeResult(nobs=755, minmax=(-5.109, 4.125), mean=-0.17076821192052982, variance=0.8229128838688144, skewness=-0.40494385749491874, kurtosis=4.021883477312151)\n",
            "DescribeResult(nobs=1199, minmax=(-7.171, 6.055), mean=-0.11791326105087571, variance=0.7608037804500412, skewness=-0.7469264762028531, kurtosis=11.309831195559811)\n"
          ],
          "name": "stdout"
        }
      ]
    },
    {
      "cell_type": "markdown",
      "metadata": {
        "id": "u1tYXJu5fJuN"
      },
      "source": [
        "While there's no definitive answer as to the bounds of both kurtosis and skewnews, a good rule of thumb is that anything with kurtosis from -3 to 3 and skewness from -10 to 10 is close enough for a t-test to work well.\n",
        "\n",
        "With that in mind, our data is close enough to normal we can proceed. "
      ]
    },
    {
      "cell_type": "code",
      "metadata": {
        "colab": {
          "base_uri": "https://localhost:8080/"
        },
        "id": "MjDJO5_fnTDy",
        "outputId": "e3934ce7-a280-4ebd-f5a1-6e3f1c7f33d0"
      },
      "source": [
        "# conduct the t-test\n",
        "stats.ttest_ind(no_treatment['CLABSI_diff'], yes_treatment['CLABSI_diff'])"
      ],
      "execution_count": 22,
      "outputs": [
        {
          "output_type": "execute_result",
          "data": {
            "text/plain": [
              "Ttest_indResult(statistic=-1.2841874814030225, pvalue=0.1992287585949289)"
            ]
          },
          "metadata": {
            "tags": []
          },
          "execution_count": 22
        }
      ]
    },
    {
      "cell_type": "markdown",
      "metadata": {
        "id": "k3ZZUHfCofdP"
      },
      "source": [
        "Based on our p-value of .1992, we fail to reject the null. We cannot say there is a difference in infections rates after intervention. "
      ]
    },
    {
      "cell_type": "code",
      "metadata": {
        "id": "OhN04JuCnkav"
      },
      "source": [
        "# Confidence interval\n",
        "def get_95_ci(array_1, array_2):\n",
        "    sample_1_n = array_1.shape[0]\n",
        "    sample_2_n = array_2.shape[0]\n",
        "    sample_1_mean = array_1.mean()\n",
        "    sample_2_mean = array_2.mean()\n",
        "    sample_1_var = array_1.var()\n",
        "    sample_2_var = array_2.var()\n",
        "    mean_difference = sample_2_mean - sample_1_mean\n",
        "    std_err_difference = math.sqrt((sample_1_var/sample_1_n)+(sample_2_var/sample_2_n))\n",
        "    margin_of_error = 1.96 * std_err_difference\n",
        "    ci_lower = mean_difference - margin_of_error\n",
        "    ci_upper = mean_difference + margin_of_error\n",
        "    return(\"The difference in means at the 95% confidence interval (two-tail) is between \"+str(ci_lower)+\" and \"+str(ci_upper)+\".\")\n"
      ],
      "execution_count": 23,
      "outputs": []
    },
    {
      "cell_type": "markdown",
      "metadata": {
        "id": "zThTm418pW_q"
      },
      "source": [
        "Below is a graph that shows the confidence interval for both patients with and without intervention. You can see the lines overlap. This means that the expected proportion for intervention patients is similar to what we would expect for proportions for patients who did not receive internvention. We can confidently see there is not a difference."
      ]
    },
    {
      "cell_type": "code",
      "metadata": {
        "colab": {
          "base_uri": "https://localhost:8080/",
          "height": 282
        },
        "id": "2t2d3GIOo8HS",
        "outputId": "ae2e06e9-01c5-4249-8eaf-f11e679e9f3c"
      },
      "source": [
        "g = sns.pointplot(data=[no_treatment['CLABSI_diff'], \n",
        "                   yes_treatment['CLABSI_diff']], join=False)\n",
        "                        \n",
        "g.set(xticklabels = ['No Intervention', 'Yes Intervention'])"
      ],
      "execution_count": 24,
      "outputs": [
        {
          "output_type": "execute_result",
          "data": {
            "text/plain": [
              "[[Text(0, 0, 'No Intervention'), Text(0, 0, 'Yes Intervention')]]"
            ]
          },
          "metadata": {
            "tags": []
          },
          "execution_count": 24
        },
        {
          "output_type": "display_data",
          "data": {
            "image/png": "[encoded data removed]",
            "text/plain": [
              "<Figure size 432x288 with 1 Axes>"
            ]
          },
          "metadata": {
            "tags": [],
            "needs_background": "light"
          }
        }
      ]
    },
    {
      "cell_type": "markdown",
      "metadata": {
        "id": "pbyXb_gUqUD4"
      },
      "source": [
        "Correlation between variables"
      ]
    },
    {
      "cell_type": "code",
      "metadata": {
        "colab": {
          "base_uri": "https://localhost:8080/",
          "height": 627
        },
        "id": "kXykb_C2qr3z",
        "outputId": "031371b3-4310-4506-c65b-f6535ae81cb3"
      },
      "source": [
        "df.corr()"
      ],
      "execution_count": 30,
      "outputs": [
        {
          "output_type": "execute_result",
          "data": {
            "text/html": [
              "<div>\n",
              "<style scoped>\n",
              "    .dataframe tbody tr th:only-of-type {\n",
              "        vertical-align: middle;\n",
              "    }\n",
              "\n",
              "    .dataframe tbody tr th {\n",
              "        vertical-align: top;\n",
              "    }\n",
              "\n",
              "    .dataframe thead th {\n",
              "        text-align: right;\n",
              "    }\n",
              "</style>\n",
              "<table border=\"1\" class=\"dataframe\">\n",
              "  <thead>\n",
              "    <tr style=\"text-align: right;\">\n",
              "      <th></th>\n",
              "      <th>HOSP.ID</th>\n",
              "      <th>COUNTY</th>\n",
              "      <th>REGION</th>\n",
              "      <th>WAGE_INDEX</th>\n",
              "      <th>RESIDENT_TO_BEDS</th>\n",
              "      <th>BEDS</th>\n",
              "      <th>DSHPCT</th>\n",
              "      <th>COST_TO_CHARGE</th>\n",
              "      <th>ANNUAL_VOLUME</th>\n",
              "      <th>CASEMIX</th>\n",
              "      <th>EMERGENCY_SERVICES</th>\n",
              "      <th>USES_EHRs</th>\n",
              "      <th>DENOM16</th>\n",
              "      <th>SIR16</th>\n",
              "      <th>DENOM15</th>\n",
              "      <th>SIR15</th>\n",
              "      <th>TREATMENT</th>\n",
              "      <th>CLABSI_diff</th>\n",
              "    </tr>\n",
              "  </thead>\n",
              "  <tbody>\n",
              "    <tr>\n",
              "      <th>HOSP.ID</th>\n",
              "      <td>1.000000</td>\n",
              "      <td>0.991722</td>\n",
              "      <td>-0.158242</td>\n",
              "      <td>-0.302516</td>\n",
              "      <td>0.033383</td>\n",
              "      <td>-0.005188</td>\n",
              "      <td>-0.113547</td>\n",
              "      <td>0.124332</td>\n",
              "      <td>0.022321</td>\n",
              "      <td>-0.024406</td>\n",
              "      <td>0.065003</td>\n",
              "      <td>NaN</td>\n",
              "      <td>0.023611</td>\n",
              "      <td>-0.045715</td>\n",
              "      <td>0.022115</td>\n",
              "      <td>-0.064850</td>\n",
              "      <td>0.071846</td>\n",
              "      <td>0.021567</td>\n",
              "    </tr>\n",
              "    <tr>\n",
              "      <th>COUNTY</th>\n",
              "      <td>0.991722</td>\n",
              "      <td>1.000000</td>\n",
              "      <td>-0.169986</td>\n",
              "      <td>-0.307485</td>\n",
              "      <td>0.039503</td>\n",
              "      <td>0.006343</td>\n",
              "      <td>-0.106206</td>\n",
              "      <td>0.130078</td>\n",
              "      <td>0.034414</td>\n",
              "      <td>-0.021591</td>\n",
              "      <td>0.070574</td>\n",
              "      <td>NaN</td>\n",
              "      <td>0.030076</td>\n",
              "      <td>-0.051497</td>\n",
              "      <td>0.029008</td>\n",
              "      <td>-0.063315</td>\n",
              "      <td>0.067526</td>\n",
              "      <td>0.015413</td>\n",
              "    </tr>\n",
              "    <tr>\n",
              "      <th>REGION</th>\n",
              "      <td>-0.158242</td>\n",
              "      <td>-0.169986</td>\n",
              "      <td>1.000000</td>\n",
              "      <td>0.172688</td>\n",
              "      <td>-0.146898</td>\n",
              "      <td>-0.064507</td>\n",
              "      <td>0.109363</td>\n",
              "      <td>-0.174008</td>\n",
              "      <td>-0.206842</td>\n",
              "      <td>0.212652</td>\n",
              "      <td>-0.059682</td>\n",
              "      <td>NaN</td>\n",
              "      <td>-0.039339</td>\n",
              "      <td>-0.013368</td>\n",
              "      <td>-0.040754</td>\n",
              "      <td>-0.028458</td>\n",
              "      <td>0.057306</td>\n",
              "      <td>0.014967</td>\n",
              "    </tr>\n",
              "    <tr>\n",
              "      <th>WAGE_INDEX</th>\n",
              "      <td>-0.302516</td>\n",
              "      <td>-0.307485</td>\n",
              "      <td>0.172688</td>\n",
              "      <td>1.000000</td>\n",
              "      <td>0.155498</td>\n",
              "      <td>0.006037</td>\n",
              "      <td>0.144051</td>\n",
              "      <td>-0.048302</td>\n",
              "      <td>-0.059342</td>\n",
              "      <td>0.052065</td>\n",
              "      <td>-0.077615</td>\n",
              "      <td>NaN</td>\n",
              "      <td>0.003094</td>\n",
              "      <td>0.028699</td>\n",
              "      <td>-0.001898</td>\n",
              "      <td>-0.018299</td>\n",
              "      <td>0.014801</td>\n",
              "      <td>0.040284</td>\n",
              "    </tr>\n",
              "    <tr>\n",
              "      <th>RESIDENT_TO_BEDS</th>\n",
              "      <td>0.033383</td>\n",
              "      <td>0.039503</td>\n",
              "      <td>-0.146898</td>\n",
              "      <td>0.155498</td>\n",
              "      <td>1.000000</td>\n",
              "      <td>0.370356</td>\n",
              "      <td>0.366694</td>\n",
              "      <td>0.082991</td>\n",
              "      <td>0.215244</td>\n",
              "      <td>0.322600</td>\n",
              "      <td>-0.009705</td>\n",
              "      <td>NaN</td>\n",
              "      <td>0.465629</td>\n",
              "      <td>0.060456</td>\n",
              "      <td>0.458664</td>\n",
              "      <td>0.102136</td>\n",
              "      <td>-0.163595</td>\n",
              "      <td>-0.043457</td>\n",
              "    </tr>\n",
              "    <tr>\n",
              "      <th>BEDS</th>\n",
              "      <td>-0.005188</td>\n",
              "      <td>0.006343</td>\n",
              "      <td>-0.064507</td>\n",
              "      <td>0.006037</td>\n",
              "      <td>0.370356</td>\n",
              "      <td>1.000000</td>\n",
              "      <td>0.190220</td>\n",
              "      <td>-0.092774</td>\n",
              "      <td>0.820877</td>\n",
              "      <td>0.471574</td>\n",
              "      <td>0.059627</td>\n",
              "      <td>NaN</td>\n",
              "      <td>0.853326</td>\n",
              "      <td>0.020433</td>\n",
              "      <td>0.861909</td>\n",
              "      <td>0.027824</td>\n",
              "      <td>-0.055771</td>\n",
              "      <td>-0.008580</td>\n",
              "    </tr>\n",
              "    <tr>\n",
              "      <th>DSHPCT</th>\n",
              "      <td>-0.113547</td>\n",
              "      <td>-0.106206</td>\n",
              "      <td>0.109363</td>\n",
              "      <td>0.144051</td>\n",
              "      <td>0.366694</td>\n",
              "      <td>0.190220</td>\n",
              "      <td>1.000000</td>\n",
              "      <td>-0.044022</td>\n",
              "      <td>-0.066784</td>\n",
              "      <td>0.009219</td>\n",
              "      <td>-0.049168</td>\n",
              "      <td>NaN</td>\n",
              "      <td>0.145362</td>\n",
              "      <td>0.100484</td>\n",
              "      <td>0.142280</td>\n",
              "      <td>0.148839</td>\n",
              "      <td>-0.278914</td>\n",
              "      <td>-0.053147</td>\n",
              "    </tr>\n",
              "    <tr>\n",
              "      <th>COST_TO_CHARGE</th>\n",
              "      <td>0.124332</td>\n",
              "      <td>0.130078</td>\n",
              "      <td>-0.174008</td>\n",
              "      <td>-0.048302</td>\n",
              "      <td>0.082991</td>\n",
              "      <td>-0.092774</td>\n",
              "      <td>-0.044022</td>\n",
              "      <td>1.000000</td>\n",
              "      <td>-0.016647</td>\n",
              "      <td>-0.149319</td>\n",
              "      <td>-0.014582</td>\n",
              "      <td>NaN</td>\n",
              "      <td>-0.066523</td>\n",
              "      <td>-0.060068</td>\n",
              "      <td>-0.069119</td>\n",
              "      <td>0.012023</td>\n",
              "      <td>0.127392</td>\n",
              "      <td>-0.060348</td>\n",
              "    </tr>\n",
              "    <tr>\n",
              "      <th>ANNUAL_VOLUME</th>\n",
              "      <td>0.022321</td>\n",
              "      <td>0.034414</td>\n",
              "      <td>-0.206842</td>\n",
              "      <td>-0.059342</td>\n",
              "      <td>0.215244</td>\n",
              "      <td>0.820877</td>\n",
              "      <td>-0.066784</td>\n",
              "      <td>-0.016647</td>\n",
              "      <td>1.000000</td>\n",
              "      <td>0.368021</td>\n",
              "      <td>0.065920</td>\n",
              "      <td>NaN</td>\n",
              "      <td>0.708691</td>\n",
              "      <td>-0.006136</td>\n",
              "      <td>0.722200</td>\n",
              "      <td>-0.009762</td>\n",
              "      <td>0.024094</td>\n",
              "      <td>0.003859</td>\n",
              "    </tr>\n",
              "    <tr>\n",
              "      <th>CASEMIX</th>\n",
              "      <td>-0.024406</td>\n",
              "      <td>-0.021591</td>\n",
              "      <td>0.212652</td>\n",
              "      <td>0.052065</td>\n",
              "      <td>0.322600</td>\n",
              "      <td>0.471574</td>\n",
              "      <td>0.009219</td>\n",
              "      <td>-0.149319</td>\n",
              "      <td>0.368021</td>\n",
              "      <td>1.000000</td>\n",
              "      <td>-0.083846</td>\n",
              "      <td>NaN</td>\n",
              "      <td>0.562465</td>\n",
              "      <td>0.018322</td>\n",
              "      <td>0.562829</td>\n",
              "      <td>0.026000</td>\n",
              "      <td>0.073708</td>\n",
              "      <td>-0.008652</td>\n",
              "    </tr>\n",
              "    <tr>\n",
              "      <th>EMERGENCY_SERVICES</th>\n",
              "      <td>0.065003</td>\n",
              "      <td>0.070574</td>\n",
              "      <td>-0.059682</td>\n",
              "      <td>-0.077615</td>\n",
              "      <td>-0.009705</td>\n",
              "      <td>0.059627</td>\n",
              "      <td>-0.049168</td>\n",
              "      <td>-0.014582</td>\n",
              "      <td>0.065920</td>\n",
              "      <td>-0.083846</td>\n",
              "      <td>1.000000</td>\n",
              "      <td>NaN</td>\n",
              "      <td>0.047444</td>\n",
              "      <td>0.029917</td>\n",
              "      <td>0.045298</td>\n",
              "      <td>-0.017156</td>\n",
              "      <td>-0.046190</td>\n",
              "      <td>0.040242</td>\n",
              "    </tr>\n",
              "    <tr>\n",
              "      <th>USES_EHRs</th>\n",
              "      <td>NaN</td>\n",
              "      <td>NaN</td>\n",
              "      <td>NaN</td>\n",
              "      <td>NaN</td>\n",
              "      <td>NaN</td>\n",
              "      <td>NaN</td>\n",
              "      <td>NaN</td>\n",
              "      <td>NaN</td>\n",
              "      <td>NaN</td>\n",
              "      <td>NaN</td>\n",
              "      <td>NaN</td>\n",
              "      <td>NaN</td>\n",
              "      <td>NaN</td>\n",
              "      <td>NaN</td>\n",
              "      <td>NaN</td>\n",
              "      <td>NaN</td>\n",
              "      <td>NaN</td>\n",
              "      <td>NaN</td>\n",
              "    </tr>\n",
              "    <tr>\n",
              "      <th>DENOM16</th>\n",
              "      <td>0.023611</td>\n",
              "      <td>0.030076</td>\n",
              "      <td>-0.039339</td>\n",
              "      <td>0.003094</td>\n",
              "      <td>0.465629</td>\n",
              "      <td>0.853326</td>\n",
              "      <td>0.145362</td>\n",
              "      <td>-0.066523</td>\n",
              "      <td>0.708691</td>\n",
              "      <td>0.562465</td>\n",
              "      <td>0.047444</td>\n",
              "      <td>NaN</td>\n",
              "      <td>1.000000</td>\n",
              "      <td>0.008040</td>\n",
              "      <td>0.987165</td>\n",
              "      <td>0.010049</td>\n",
              "      <td>-0.050245</td>\n",
              "      <td>-0.002556</td>\n",
              "    </tr>\n",
              "    <tr>\n",
              "      <th>SIR16</th>\n",
              "      <td>-0.045715</td>\n",
              "      <td>-0.051497</td>\n",
              "      <td>-0.013368</td>\n",
              "      <td>0.028699</td>\n",
              "      <td>0.060456</td>\n",
              "      <td>0.020433</td>\n",
              "      <td>0.100484</td>\n",
              "      <td>-0.060068</td>\n",
              "      <td>-0.006136</td>\n",
              "      <td>0.018322</td>\n",
              "      <td>0.029917</td>\n",
              "      <td>NaN</td>\n",
              "      <td>0.008040</td>\n",
              "      <td>1.000000</td>\n",
              "      <td>0.012546</td>\n",
              "      <td>0.338586</td>\n",
              "      <td>-0.141194</td>\n",
              "      <td>0.513280</td>\n",
              "    </tr>\n",
              "    <tr>\n",
              "      <th>DENOM15</th>\n",
              "      <td>0.022115</td>\n",
              "      <td>0.029008</td>\n",
              "      <td>-0.040754</td>\n",
              "      <td>-0.001898</td>\n",
              "      <td>0.458664</td>\n",
              "      <td>0.861909</td>\n",
              "      <td>0.142280</td>\n",
              "      <td>-0.069119</td>\n",
              "      <td>0.722200</td>\n",
              "      <td>0.562829</td>\n",
              "      <td>0.045298</td>\n",
              "      <td>NaN</td>\n",
              "      <td>0.987165</td>\n",
              "      <td>0.012546</td>\n",
              "      <td>1.000000</td>\n",
              "      <td>0.011441</td>\n",
              "      <td>-0.056465</td>\n",
              "      <td>-0.000122</td>\n",
              "    </tr>\n",
              "    <tr>\n",
              "      <th>SIR15</th>\n",
              "      <td>-0.064850</td>\n",
              "      <td>-0.063315</td>\n",
              "      <td>-0.028458</td>\n",
              "      <td>-0.018299</td>\n",
              "      <td>0.102136</td>\n",
              "      <td>0.027824</td>\n",
              "      <td>0.148839</td>\n",
              "      <td>0.012023</td>\n",
              "      <td>-0.009762</td>\n",
              "      <td>0.026000</td>\n",
              "      <td>-0.017156</td>\n",
              "      <td>NaN</td>\n",
              "      <td>0.010049</td>\n",
              "      <td>0.338586</td>\n",
              "      <td>0.011441</td>\n",
              "      <td>1.000000</td>\n",
              "      <td>-0.159117</td>\n",
              "      <td>-0.633742</td>\n",
              "    </tr>\n",
              "    <tr>\n",
              "      <th>TREATMENT</th>\n",
              "      <td>0.071846</td>\n",
              "      <td>0.067526</td>\n",
              "      <td>0.057306</td>\n",
              "      <td>0.014801</td>\n",
              "      <td>-0.163595</td>\n",
              "      <td>-0.055771</td>\n",
              "      <td>-0.278914</td>\n",
              "      <td>0.127392</td>\n",
              "      <td>0.024094</td>\n",
              "      <td>0.073708</td>\n",
              "      <td>-0.046190</td>\n",
              "      <td>NaN</td>\n",
              "      <td>-0.050245</td>\n",
              "      <td>-0.141194</td>\n",
              "      <td>-0.056465</td>\n",
              "      <td>-0.159117</td>\n",
              "      <td>1.000000</td>\n",
              "      <td>0.029054</td>\n",
              "    </tr>\n",
              "    <tr>\n",
              "      <th>CLABSI_diff</th>\n",
              "      <td>0.021567</td>\n",
              "      <td>0.015413</td>\n",
              "      <td>0.014967</td>\n",
              "      <td>0.040284</td>\n",
              "      <td>-0.043457</td>\n",
              "      <td>-0.008580</td>\n",
              "      <td>-0.053147</td>\n",
              "      <td>-0.060348</td>\n",
              "      <td>0.003859</td>\n",
              "      <td>-0.008652</td>\n",
              "      <td>0.040242</td>\n",
              "      <td>NaN</td>\n",
              "      <td>-0.002556</td>\n",
              "      <td>0.513280</td>\n",
              "      <td>-0.000122</td>\n",
              "      <td>-0.633742</td>\n",
              "      <td>0.029054</td>\n",
              "      <td>1.000000</td>\n",
              "    </tr>\n",
              "  </tbody>\n",
              "</table>\n",
              "</div>"
            ],
            "text/plain": [
              "                     HOSP.ID    COUNTY  ...  TREATMENT  CLABSI_diff\n",
              "HOSP.ID             1.000000  0.991722  ...   0.071846     0.021567\n",
              "COUNTY              0.991722  1.000000  ...   0.067526     0.015413\n",
              "REGION             -0.158242 -0.169986  ...   0.057306     0.014967\n",
              "WAGE_INDEX         -0.302516 -0.307485  ...   0.014801     0.040284\n",
              "RESIDENT_TO_BEDS    0.033383  0.039503  ...  -0.163595    -0.043457\n",
              "BEDS               -0.005188  0.006343  ...  -0.055771    -0.008580\n",
              "DSHPCT             -0.113547 -0.106206  ...  -0.278914    -0.053147\n",
              "COST_TO_CHARGE      0.124332  0.130078  ...   0.127392    -0.060348\n",
              "ANNUAL_VOLUME       0.022321  0.034414  ...   0.024094     0.003859\n",
              "CASEMIX            -0.024406 -0.021591  ...   0.073708    -0.008652\n",
              "EMERGENCY_SERVICES  0.065003  0.070574  ...  -0.046190     0.040242\n",
              "USES_EHRs                NaN       NaN  ...        NaN          NaN\n",
              "DENOM16             0.023611  0.030076  ...  -0.050245    -0.002556\n",
              "SIR16              -0.045715 -0.051497  ...  -0.141194     0.513280\n",
              "DENOM15             0.022115  0.029008  ...  -0.056465    -0.000122\n",
              "SIR15              -0.064850 -0.063315  ...  -0.159117    -0.633742\n",
              "TREATMENT           0.071846  0.067526  ...   1.000000     0.029054\n",
              "CLABSI_diff         0.021567  0.015413  ...   0.029054     1.000000\n",
              "\n",
              "[18 rows x 18 columns]"
            ]
          },
          "metadata": {
            "tags": []
          },
          "execution_count": 30
        }
      ]
    },
    {
      "cell_type": "code",
      "metadata": {
        "colab": {
          "base_uri": "https://localhost:8080/"
        },
        "id": "8QMn9DcmsoYP",
        "outputId": "10eca38b-2b51-4a5f-8cfc-f4227332642c"
      },
      "source": [
        "df.USES_EHRs.value_counts()"
      ],
      "execution_count": 35,
      "outputs": [
        {
          "output_type": "execute_result",
          "data": {
            "text/plain": [
              "1.0    1954\n",
              "Name: USES_EHRs, dtype: int64"
            ]
          },
          "metadata": {
            "tags": []
          },
          "execution_count": 35
        }
      ]
    },
    {
      "cell_type": "code",
      "metadata": {
        "id": "ryrR2278ssEo"
      },
      "source": [
        "df.drop('USES_EHRs', axis=1, inplace=True)"
      ],
      "execution_count": 44,
      "outputs": []
    },
    {
      "cell_type": "code",
      "metadata": {
        "colab": {
          "base_uri": "https://localhost:8080/"
        },
        "id": "tbr2OZ3ysC6j",
        "outputId": "e9e27250-8f73-48db-81d6-6eb17882e7de"
      },
      "source": [
        "df.corr()['CLABSI_diff'][:]"
      ],
      "execution_count": 45,
      "outputs": [
        {
          "output_type": "execute_result",
          "data": {
            "text/plain": [
              "HOSP.ID               0.021567\n",
              "COUNTY                0.015413\n",
              "REGION                0.014967\n",
              "WAGE_INDEX            0.040284\n",
              "RESIDENT_TO_BEDS     -0.043457\n",
              "BEDS                 -0.008580\n",
              "DSHPCT               -0.053147\n",
              "COST_TO_CHARGE       -0.060348\n",
              "ANNUAL_VOLUME         0.003859\n",
              "CASEMIX              -0.008652\n",
              "EMERGENCY_SERVICES    0.040242\n",
              "DENOM16              -0.002556\n",
              "SIR16                 0.513280\n",
              "DENOM15              -0.000122\n",
              "SIR15                -0.633742\n",
              "TREATMENT             0.029054\n",
              "CLABSI_diff           1.000000\n",
              "Name: CLABSI_diff, dtype: float64"
            ]
          },
          "metadata": {
            "tags": []
          },
          "execution_count": 45
        }
      ]
    },
    {
      "cell_type": "markdown",
      "metadata": {
        "id": "hYaje3cGtXqi"
      },
      "source": [
        "Correlations to our target variable are very small. It does not appear any variables in our dataset are correlated with rate difference from 2015 to 2016. "
      ]
    }
  ]
}